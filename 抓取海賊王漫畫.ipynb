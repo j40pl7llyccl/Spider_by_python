{
 "cells": [
  {
   "cell_type": "markdown",
   "metadata": {},
   "source": [
    "### 檢查是否有最新一集的漫畫"
   ]
  },
  {
   "cell_type": "code",
   "execution_count": 1,
   "metadata": {},
   "outputs": [],
   "source": [
    "import requests\n",
    "res = requests.get('https://www.manhuabei.com/manhua/haizeiwang/')\n",
    "res.encoding = 'utf-8'\n",
    "#res.text"
   ]
  },
  {
   "cell_type": "code",
   "execution_count": 2,
   "metadata": {},
   "outputs": [
    {
     "ename": "ValueError",
     "evalue": "invalid literal for int() with base 10: '763 764'",
     "output_type": "error",
     "traceback": [
      "\u001b[1;31m---------------------------------------------------------------------------\u001b[0m",
      "\u001b[1;31mValueError\u001b[0m                                Traceback (most recent call last)",
      "\u001b[1;32m<ipython-input-2-f883c70d45f2>\u001b[0m in \u001b[0;36m<module>\u001b[1;34m\u001b[0m\n\u001b[0;32m      5\u001b[0m \u001b[1;32mfor\u001b[0m \u001b[0mi\u001b[0m \u001b[1;32min\u001b[0m \u001b[0msoup\u001b[0m\u001b[1;33m.\u001b[0m\u001b[0mselect\u001b[0m\u001b[1;33m(\u001b[0m\u001b[1;34m'ul#chapter-list-1 > li > a'\u001b[0m\u001b[1;33m)\u001b[0m\u001b[1;33m:\u001b[0m\u001b[1;33m\u001b[0m\u001b[1;33m\u001b[0m\u001b[0m\n\u001b[0;32m      6\u001b[0m     \u001b[0mi\u001b[0m \u001b[1;33m=\u001b[0m \u001b[0mi\u001b[0m\u001b[1;33m.\u001b[0m\u001b[0mget\u001b[0m\u001b[1;33m(\u001b[0m\u001b[1;34m'title'\u001b[0m\u001b[1;33m)\u001b[0m\u001b[1;33m.\u001b[0m\u001b[0mrstrip\u001b[0m\u001b[1;33m(\u001b[0m\u001b[1;34m'话'\u001b[0m\u001b[1;33m)\u001b[0m\u001b[1;33m\u001b[0m\u001b[1;33m\u001b[0m\u001b[0m\n\u001b[1;32m----> 7\u001b[1;33m     \u001b[0mi\u001b[0m \u001b[1;33m=\u001b[0m \u001b[0mint\u001b[0m\u001b[1;33m(\u001b[0m\u001b[0mre\u001b[0m\u001b[1;33m.\u001b[0m\u001b[0msub\u001b[0m\u001b[1;33m(\u001b[0m\u001b[1;34m\"\\D\"\u001b[0m\u001b[1;33m,\u001b[0m \u001b[1;34m\" \"\u001b[0m\u001b[1;33m,\u001b[0m \u001b[0mi\u001b[0m\u001b[1;33m)\u001b[0m\u001b[1;33m)\u001b[0m\u001b[1;33m\u001b[0m\u001b[1;33m\u001b[0m\u001b[0m\n\u001b[0m\u001b[0;32m      8\u001b[0m     \u001b[1;31m#print(i[:4])\u001b[0m\u001b[1;33m\u001b[0m\u001b[1;33m\u001b[0m\u001b[1;33m\u001b[0m\u001b[0m\n\u001b[0;32m      9\u001b[0m     \u001b[0mcomics\u001b[0m\u001b[1;33m.\u001b[0m\u001b[0mappend\u001b[0m\u001b[1;33m(\u001b[0m\u001b[0mi\u001b[0m\u001b[1;33m)\u001b[0m\u001b[1;33m\u001b[0m\u001b[1;33m\u001b[0m\u001b[0m\n",
      "\u001b[1;31mValueError\u001b[0m: invalid literal for int() with base 10: '763 764'"
     ]
    }
   ],
   "source": [
    "from bs4 import BeautifulSoup\n",
    "import re\n",
    "soup = BeautifulSoup(res.text, 'lxml')\n",
    "comics = []\n",
    "for i in soup.select('ul#chapter-list-1 > li > a'):\n",
    "    i = i.get('title').rstrip('话')\n",
    "    i = int(re.sub(\"\\D\", \" \", i))\n",
    "    #print(i[:4])\n",
    "    comics.append(i)"
   ]
  },
  {
   "cell_type": "code",
   "execution_count": 40,
   "metadata": {},
   "outputs": [
    {
     "data": {
      "text/plain": [
       "'990'"
      ]
     },
     "execution_count": 40,
     "metadata": {},
     "output_type": "execute_result"
    }
   ],
   "source": [
    "max(comics)"
   ]
  },
  {
   "cell_type": "code",
   "execution_count": 42,
   "metadata": {},
   "outputs": [],
   "source": [
    "import pandas\n",
    "comic_df = pandas.DataFrame(comics)\n",
    "comic_df.columns = ['series']\n"
   ]
  },
  {
   "cell_type": "code",
   "execution_count": 43,
   "metadata": {},
   "outputs": [],
   "source": [
    "import sqlite3 as lite\n",
    "with lite.connect('comics.sqlite') as db:\n",
    "    comic_df.to_sql('comics', con = db, if_exists='replace')"
   ]
  },
  {
   "cell_type": "code",
   "execution_count": 45,
   "metadata": {},
   "outputs": [
    {
     "data": {
      "text/plain": [
       "'990'"
      ]
     },
     "execution_count": 45,
     "metadata": {},
     "output_type": "execute_result"
    }
   ],
   "source": [
    "\n",
    "with lite.connect('comics.sqlite') as db:\n",
    "    df2 = pandas.read_sql_query('select max(series) as max_series from comics', con = db)\n",
    "df2['max_series'][0]\n",
    "\n"
   ]
  },
  {
   "cell_type": "code",
   "execution_count": 53,
   "metadata": {},
   "outputs": [
    {
     "data": {
      "text/plain": [
       "[]"
      ]
     },
     "execution_count": 53,
     "metadata": {},
     "output_type": "execute_result"
    }
   ],
   "source": [
    "def check_comics(s):\n",
    "    # 檢查資料庫最新的漫畫集數\n",
    "    with lite.connect('comics.sqlite') as db:\n",
    "        df2 = pandas.read_sql_query('select max(series) as max_series from comics', con = db)\n",
    "        max_series = int(df2['max_series'][0])\n",
    "    \n",
    "    # 利用網路爬蟲檢查網路上最新的集數\n",
    "    res = requests.get('https://www.manhuabei.com/manhua/haizeiwang/')\n",
    "    res.encoding = 'utf-8'\n",
    "    soup = BeautifulSoup(res.text, 'lxml')\n",
    "    comics = []\n",
    "    for i in soup.select('ul#chapter-list-1 > li > a'):\n",
    "        i = i.get('title').rstrip('话')\n",
    "        i = int(re.sub(\"\\D\", \" \", i)[:4])\n",
    "    #print(i[:4])\n",
    "    comics.append(i)\n",
    "    # 將還未抓取的集數放到 left_comics 之中\n",
    "    left_comics = []\n",
    "    for i in range(max_series, max(comics)):\n",
    "        left_comics.append(i)\n",
    "    # 將抓取到的集數，寫到資料庫中\n",
    "    with lite.connect('comics.sqlite') as db:\n",
    "        comic_df.to_sql('comics', con = db, if_exists='replace')\n",
    "    return left_comics\n",
    "\n",
    "check_comics()"
   ]
  },
  {
   "cell_type": "markdown",
   "metadata": {},
   "source": [
    "### 完整抓取漫畫程式\n",
    "    "
   ]
  },
  {
   "cell_type": "code",
   "execution_count": null,
   "metadata": {},
   "outputs": [],
   "source": [
    "left_comics = check_comics()\n",
    "left_comics = [959]\n",
    "for i in left_comics:\n",
    "    getComic(i)"
   ]
  },
  {
   "cell_type": "code",
   "execution_count": 41,
   "metadata": {},
   "outputs": [
    {
     "data": {
      "text/plain": [
       "'https://www.manhuabei.com/manhua/haizeiwang/573021.html'"
      ]
     },
     "execution_count": 41,
     "metadata": {},
     "output_type": "execute_result"
    }
   ],
   "source": [
    "import requests\n",
    "from bs4 import BeautifulSoup\n",
    "import re\n",
    "res = requests.get('https://www.manhuabei.com/manhua/haizeiwang/')\n",
    "res.encoding = 'utf-8'\n",
    "soup = BeautifulSoup(res.text, 'lxml')\n",
    "comics = []\n",
    "def get_new_chater():\n",
    "    for i in soup.select('ul#chapter-list-1 > li > a'):\n",
    "        i = i.get('href')\n",
    "        comics.append(i)\n",
    "    return 'https://www.manhuabei.com'+ comics[-1]\n",
    "get_new_chater()"
   ]
  },
  {
   "cell_type": "markdown",
   "metadata": {},
   "source": [
    "### 算總頁數"
   ]
  },
  {
   "cell_type": "code",
   "execution_count": 19,
   "metadata": {},
   "outputs": [
    {
     "name": "stdout",
     "output_type": "stream",
     "text": [
      "(1/17)\n"
     ]
    }
   ],
   "source": [
    "from selenium import webdriver\n",
    "from selenium.webdriver.common.keys import Keys\n",
    "driver=webdriver.Chrome('.\\\\chromedriver.exe')\n",
    "def total_page():\n",
    "    url = get_new_chater()\n",
    "    driver.get(url)\n",
    "    assert '海贼王' in driver.title\n",
    "    links = driver.find_element_by_css_selector(\"#images\")\n",
    "    print(links.text)\n",
    "    a = links.text\n",
    "    total_page = a.strip(')').strip('(').strip('1').strip('/')\n",
    "    driver.close()\n",
    "    return total_page"
   ]
  },
  {
   "cell_type": "code",
   "execution_count": 56,
   "metadata": {},
   "outputs": [
    {
     "name": "stdout",
     "output_type": "stream",
     "text": [
      "None\n"
     ]
    }
   ],
   "source": [
    "from selenium import webdriver\n",
    "from selenium.common.exceptions import TimeoutException\n",
    "from selenium.webdriver.support.ui import WebDriverWait # available since 2.4.0\n",
    "from selenium.webdriver.support import expected_conditions as EC # available since 2.26.0\n",
    "from selenium.webdriver.support.ui import Select\n",
    "from selenium.webdriver.common.action_chains import ActionChains\n",
    "from selenium.webdriver.common.by import By\n",
    "import selenium\n",
    "driver=webdriver.Chrome('.\\\\chromedriver.exe')\n",
    "url = get_new_chater()\n",
    "driver.get(url)\n",
    "assert '海贼王' in driver.title\n",
    "try:\n",
    "    WebDriverWait(driver, 20).until(EC.visibility_of_element_located((By.ID, 'images')))\n",
    "    links = driver.execute_script(\"document.querySelector('.comic_wraCon.autoHeight > #images > img').style.display='inline';\")\n",
    "    #element = selenium.webdriver.support.ui.WebDriverWait(driver, 20).until(EC.visibility_of_element_located((By.ID, 'some_id')))\n",
    "    #selenium.webdriver.support.ui.Select(element).select_by_value('1')\n",
    "except Exception as ex:\n",
    "    print(ex)\n",
    "#links.text\n",
    "print(links)\n",
    "driver.close()\n",
    "\n"
   ]
  },
  {
   "cell_type": "code",
   "execution_count": 52,
   "metadata": {},
   "outputs": [],
   "source": [
    "import time, os\n",
    "from selenium import webdriver\n",
    "from bs4 import BeautifulSoup\n",
    "import requests\n",
    "\n",
    "comics = []\n",
    "def get_new_chater():\n",
    "    for i in soup.select('ul#chapter-list-1 > li > a'):\n",
    "        i = i.get('href')\n",
    "        comics.append(i)\n",
    "    return 'https://www.manhuabei.com'+ comics[-1]\n",
    "\n",
    "def getComic(s):\n",
    "    driver = webdriver.Chrome('C:\\\\Users\\\\UX433\\\\Desktop\\\\爬蟲\\\\chromedriver.exe')\n",
    "    if not os.path.exists(str(s)):\n",
    "        os.mkdir(str(s))\n",
    "    #pageurl = 'https://www.8899.click/online/comic-103.html?ch={}-{}'\n",
    "    #https://www.manhuabei.com/manhua/haizeiwang/573021.html?p=3\n",
    "    pagenum = total_page()\n",
    "    pageurl = get_new_chater()+'?p={}'.format(1)\n",
    "    driver.get(pageurl.format(s,1))\n",
    "    time.sleep(1)\n",
    "    soup = BeautifulSoup(driver.page_source, 'lxml')\n",
    "    for i in range(pagenum):\n",
    "        driver.get(pageurl.format(i))\n",
    "        soup = BeautifulSoup(driver.get(pageurl), 'lxml')\n",
    "        imgurl = 'https:' + soup.select_one('#TheImg').get('src')\n",
    "        res = requests.get(imgurl)\n",
    "        with open('{}/{}.jpg'.format(s, i+ 1), 'wb') as f:\n",
    "            f.write(res.content)\n",
    "        time.sleep(1)\n",
    "    driver.close()"
   ]
  },
  {
   "cell_type": "markdown",
   "metadata": {},
   "source": [
    "### Flask API"
   ]
  },
  {
   "cell_type": "markdown",
   "metadata": {},
   "source": [
    "### 取得隱碼Code"
   ]
  },
  {
   "cell_type": "code",
   "execution_count": 3,
   "metadata": {},
   "outputs": [
    {
     "name": "stdout",
     "output_type": "stream",
     "text": [
      "https://notify-bot.line.me/oauth/authorize?response_type=code&client_id=lvAbi0iSWH0QD9JKzvfD54&redirect_uri=http://127.0.0.1:5000/callback&scope=notify&state=NO_STATE\n"
     ]
    }
   ],
   "source": [
    "\n",
    "client_id = 'lvAbi0iSWH0QD9JKzvfD54'\n",
    "callback_url = 'http://127.0.0.1:5000/callback'\n",
    "URL = f'https://notify-bot.line.me/oauth/authorize?response_type=code&client_id={client_id}&redirect_uri={callback_url}&scope=notify&state=NO_STATE'\n",
    "print(URL)"
   ]
  },
  {
   "cell_type": "markdown",
   "metadata": {},
   "source": [
    "### 取得授權Token"
   ]
  },
  {
   "cell_type": "code",
   "execution_count": 12,
   "metadata": {},
   "outputs": [],
   "source": [
    "import requests\n",
    "\n",
    "code = 'd4SkbfllqIIeVnRWyilW1F'\n",
    "client_secret = 'T5C5KdKhZlExghhUh1B23yQ0pyrG9zNWG5noDVKZDv0'\n",
    "headers = {\n",
    "    'Content-type': 'application/x-www-form-urlencoded'\n",
    "}\n",
    "\n",
    "payload = {\n",
    " 'code':code,\n",
    " 'client_id': client_id, \n",
    " 'client_secret': client_secret,\n",
    " 'redirect_uri': callback_url,\n",
    " 'grant_type' : 'authorization_code'   \n",
    "}\n",
    "\n",
    "res = requests.post('https://notify-bot.line.me/oauth/token', data = payload, headers = headers)"
   ]
  },
  {
   "cell_type": "code",
   "execution_count": 13,
   "metadata": {},
   "outputs": [
    {
     "data": {
      "text/plain": [
       "'{\"status\":200,\"message\":\"access_token is issued\",\"access_token\":\"WZABnxxPYKzlUFwp3bAdCgpxmsalQZ94MncTrS6j8jQ\"}'"
      ]
     },
     "execution_count": 13,
     "metadata": {},
     "output_type": "execute_result"
    }
   ],
   "source": [
    "res.text"
   ]
  },
  {
   "cell_type": "markdown",
   "metadata": {},
   "source": [
    "### 自動發訊息"
   ]
  },
  {
   "cell_type": "code",
   "execution_count": 15,
   "metadata": {},
   "outputs": [],
   "source": [
    "token = 'WZABnxxPYKzlUFwp3bAdCgpxmsalQZ94MncTrS6j8jQ'\n",
    "headers = {\n",
    "    'Content-type': 'application/x-www-form-urlencoded',\n",
    "    'Authorization': f'Bearer {token}'\n",
    "}\n",
    "\n",
    "payload = {\n",
    " 'message':'Has new onePiece chapter', \n",
    "}\n",
    "\n",
    "res = requests.post('https://notify-api.line.me/api/notify', data = payload, headers = headers)"
   ]
  },
  {
   "cell_type": "code",
   "execution_count": null,
   "metadata": {},
   "outputs": [],
   "source": []
  }
 ],
 "metadata": {
  "kernelspec": {
   "display_name": "Python 3",
   "language": "python",
   "name": "python3"
  },
  "language_info": {
   "codemirror_mode": {
    "name": "ipython",
    "version": 3
   },
   "file_extension": ".py",
   "mimetype": "text/x-python",
   "name": "python",
   "nbconvert_exporter": "python",
   "pygments_lexer": "ipython3",
   "version": "3.7.3"
  }
 },
 "nbformat": 4,
 "nbformat_minor": 2
}
